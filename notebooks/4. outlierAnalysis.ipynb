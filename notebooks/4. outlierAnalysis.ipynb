{
 "cells": [
  {
   "cell_type": "code",
   "execution_count": 1,
   "id": "768e7383",
   "metadata": {},
   "outputs": [],
   "source": [
    "import pandas as pd\n",
    "import numpy as np\n",
    "import os\n",
    "import matplotlib.pyplot as plt\n",
    "import seaborn as sns\n"
   ]
  },
  {
   "cell_type": "markdown",
   "id": "f8f55466",
   "metadata": {},
   "source": [
    "### Sigma outliers analysis"
   ]
  },
  {
   "cell_type": "code",
   "execution_count": 2,
   "id": "f532e850",
   "metadata": {},
   "outputs": [
    {
     "name": "stdout",
     "output_type": "stream",
     "text": [
      "<class 'pandas.core.frame.DataFrame'>\n",
      "RangeIndex: 4408 entries, 0 to 4407\n",
      "Data columns (total 10 columns):\n",
      " #   Column      Non-Null Count  Dtype  \n",
      "---  ------      --------------  -----  \n",
      " 0   S           4408 non-null   float64\n",
      " 1   K           4408 non-null   float64\n",
      " 2   T           4408 non-null   float64\n",
      " 3   sigma       4408 non-null   float64\n",
      " 4   midPrice    4408 non-null   float64\n",
      " 5   BS_predict  4408 non-null   float64\n",
      " 6   MLP_pred    4408 non-null   float64\n",
      " 7   MLP_diff    4408 non-null   float64\n",
      " 8   BS_diff     4408 non-null   float64\n",
      " 9   MLP_better  4408 non-null   bool   \n",
      "dtypes: bool(1), float64(9)\n",
      "memory usage: 314.4 KB\n"
     ]
    }
   ],
   "source": [
    "outlier_sigma = pd.read_csv('../data/predicted/outliers_sigma.csv')\n",
    "outlier_sigma.head(4)\n",
    "\n",
    "outlier_sigma.info()\n"
   ]
  },
  {
   "cell_type": "code",
   "execution_count": null,
   "id": "cddc7c09",
   "metadata": {},
   "outputs": [],
   "source": []
  }
 ],
 "metadata": {
  "kernelspec": {
   "display_name": "TFM",
   "language": "python",
   "name": "python3"
  },
  "language_info": {
   "codemirror_mode": {
    "name": "ipython",
    "version": 3
   },
   "file_extension": ".py",
   "mimetype": "text/x-python",
   "name": "python",
   "nbconvert_exporter": "python",
   "pygments_lexer": "ipython3",
   "version": "3.10.16"
  }
 },
 "nbformat": 4,
 "nbformat_minor": 5
}
