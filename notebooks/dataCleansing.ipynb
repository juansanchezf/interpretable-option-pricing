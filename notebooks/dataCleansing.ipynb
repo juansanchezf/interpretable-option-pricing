{
 "cells": [
  {
   "cell_type": "code",
   "execution_count": 26,
   "id": "29ea2782",
   "metadata": {},
   "outputs": [],
   "source": [
    "import pandas as pd\n",
    "import os\n",
    "\n",
    "from scipy.stats import norm\n",
    "from datetime import datetime"
   ]
  },
  {
   "cell_type": "code",
   "execution_count": 27,
   "id": "6155a255",
   "metadata": {},
   "outputs": [],
   "source": [
    "raw_data_path = '../data/raw/'\n",
    "today = datetime.now().strftime('%Y_%m_%d')\n",
    "calls_name = f'sp500_calls_{today}.csv'\n",
    "puts_name = f'sp500_puts_{today}.csv'\n",
    "\n",
    "calls_path = os.path.join(raw_data_path, calls_name)\n",
    "puts_path = os.path.join(raw_data_path, puts_name)\n",
    "\n",
    "df_calls = pd.read_csv(calls_path)\n",
    "df_puts = pd.read_csv(puts_path)"
   ]
  },
  {
   "cell_type": "code",
   "execution_count": 28,
   "id": "97722e6a",
   "metadata": {},
   "outputs": [],
   "source": [
    "# We add the ticker to the dataframes\n",
    "df_calls.dropna(subset=['bid','ask','openInterest'], inplace=True)\n",
    "df_puts.dropna(subset=['bid','ask','openInterest'], inplace=True)\n",
    "df_calls['T'] = df_calls['remaining'] / 365\n",
    "df_calls['midPrice'] = (df_calls['bid'] + df_calls['ask']) / 2\n",
    "df_puts['T'] = df_puts['remaining'] / 365\n",
    "df_puts['midPrice'] = (df_puts['bid'] + df_puts['ask']) / 2"
   ]
  },
  {
   "cell_type": "code",
   "execution_count": 29,
   "id": "736dfdaf",
   "metadata": {},
   "outputs": [],
   "source": [
    "processed_data_path = '../data/processed/'\n",
    "cleaned_calls_name = f'calls_{today}.csv'\n",
    "cleaned_puts_name = f'puts_{today}.csv'\n",
    "\n",
    "df_calls.to_csv(os.path.join(processed_data_path, cleaned_calls_name), index=False)\n",
    "df_puts.to_csv(os.path.join(processed_data_path, cleaned_puts_name), index=False)"
   ]
  }
 ],
 "metadata": {
  "kernelspec": {
   "display_name": "TFM",
   "language": "python",
   "name": "python3"
  },
  "language_info": {
   "codemirror_mode": {
    "name": "ipython",
    "version": 3
   },
   "file_extension": ".py",
   "mimetype": "text/x-python",
   "name": "python",
   "nbconvert_exporter": "python",
   "pygments_lexer": "ipython3",
   "version": "3.10.16"
  }
 },
 "nbformat": 4,
 "nbformat_minor": 5
}
